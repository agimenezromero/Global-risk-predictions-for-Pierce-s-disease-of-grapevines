{
 "cells": [
  {
   "cell_type": "code",
   "execution_count": null,
   "metadata": {},
   "outputs": [],
   "source": [
    "import numpy as np\n",
    "\n",
    "import matplotlib.pyplot as plt\n",
    "import cartopy.crs as ccrs\n",
    "import cartopy"
   ]
  },
  {
   "cell_type": "code",
   "execution_count": null,
   "metadata": {},
   "outputs": [],
   "source": [
    "def prob_MGDD(x):\n",
    "\n",
    "    return 1 / (1 + np.exp(-0.0120*(x-975)))\n",
    "\n",
    "def prob_CDD(x):\n",
    "    \n",
    "    return 2e7/(2e7 + x**3)\n",
    "\n",
    "#This is the simulation algorithm for 1 time step only (just for testing purposes)\n",
    "def disease_simulation(filename_MGDD, filename_CDD, R0=5.0, γ=1.0/5.0, I0=1.0, use_vector=False, \n",
    "                       filename_vector=\"Data/vector_Europe.txt\"):\n",
    "    \n",
    "    I = I0\n",
    "    \n",
    "    if use_vector == True:\n",
    "        \n",
    "        vector, lons_v, lats_v = np.loadtxt(filename_vector, unpack=True)\n",
    "\n",
    "        R0_f = R0 * vector/1000\n",
    "        \n",
    "        R0_f[R0_f <= 1] = 1.00001 #\n",
    "        \n",
    "    else:\n",
    "        \n",
    "        R0_f = R0\n",
    "        \n",
    "    MGDD, lons, lats = np.loadtxt(filename_MGDD, unpack=True)\n",
    "    CDD, lons, lats = np.loadtxt(filename_CDD, unpack=True)\n",
    "\n",
    "    prob_1 = prob_MGDD(MGDD)\n",
    "    prob_2 = prob_CDD(CDD)\n",
    "\n",
    "    prob_f = prob_1 * prob_2\n",
    "\n",
    "    I = I * prob_f * np.exp((R0_f-1)*γ)\n",
    "    \n",
    "    risk = np.log(I) / ((R0_f-1)*γ*1)\n",
    "    \n",
    "    risk[risk < -1.0] = -1.0\n",
    "    \n",
    "    return risk, lons, lats"
   ]
  },
  {
   "cell_type": "markdown",
   "metadata": {},
   "source": [
    "# Simulate PD progression in 2019 "
   ]
  },
  {
   "cell_type": "code",
   "execution_count": null,
   "metadata": {},
   "outputs": [],
   "source": [
    "filename_MGDD = \"Data/Europe_2019_hot.txt\"\n",
    "filename_CDD = \"Data/Europe_2019_cold.txt\"\n",
    "\n",
    "use_vector = True\n",
    "\n",
    "risk, lons, lats = disease_simulation(filename_MGDD, filename_CDD, use_vector=use_vector)"
   ]
  },
  {
   "cell_type": "markdown",
   "metadata": {},
   "source": [
    "# Plot "
   ]
  },
  {
   "cell_type": "code",
   "execution_count": null,
   "metadata": {},
   "outputs": [],
   "source": [
    "Europe_shape = (471, 891) \n",
    "\n",
    "risk = np.reshape(risk, Europe_shape)\n",
    "lons = np.reshape(lons, Europe_shape)\n",
    "lats = np.reshape(lats, Europe_shape)"
   ]
  },
  {
   "cell_type": "code",
   "execution_count": null,
   "metadata": {},
   "outputs": [],
   "source": [
    "clevels = np.linspace(-1, 1, 100)\n",
    "cbar_ticks = np.arange(-1, 1.2, 0.2)\n",
    "\n",
    "cmap = 'jet'\n",
    "\n",
    "#-- create figure and axes instances\n",
    "fig = plt.figure(figsize=(11, 11), dpi=100)\n",
    "ax  = fig.add_axes([0.1,0.1,0.8,0.9])\n",
    "\n",
    "projection = ccrs.PlateCarree()\n",
    "\n",
    "#-- create map\n",
    "ax = plt.axes(projection=projection) \n",
    "\n",
    "#-- add map features\n",
    "ax.coastlines(resolution='10m') #110m, 50m, 10m\n",
    "ax.add_feature(cartopy.feature.LAND, edgecolor='black')\n",
    "ax.add_feature(cartopy.feature.LAKES, edgecolor='black')\n",
    "ax.add_feature(cartopy.feature.BORDERS, edgecolor='black')\n",
    "ax.add_feature(cartopy.feature.OCEAN, zorder=100, edgecolor='black', facecolor='azure')\n",
    "\n",
    "cnplot = ax.contourf(lons, lats, risk, clevels, cmap=cmap)\n",
    "\n",
    "cbar = plt.colorbar(cnplot, ticks=cbar_ticks, shrink=0.42, pad = 0.03)\n",
    "\n",
    "gl = ax.gridlines(crs=projection, linewidth=1, color='gray', alpha=0.5, zorder=200, linestyle='--')\n",
    "\n",
    "gl.xlabel_style = {'size': 10, 'color': 'gray'}\n",
    "gl.ylabel_style = {'size': 10, 'color': 'gray'}\n",
    "\n",
    "gl.bottom_labels = True\n",
    "gl.left_labels = True\n",
    "\n",
    "cbar.set_label(\"Risk\", fontsize=30)\n",
    "\n",
    "plt.savefig(\"Europe_risk_test_vector.png\", dpi=300, bbox_inches='tight')"
   ]
  },
  {
   "cell_type": "markdown",
   "metadata": {},
   "source": [
    "## Zoom a given region "
   ]
  },
  {
   "cell_type": "code",
   "execution_count": null,
   "metadata": {},
   "outputs": [],
   "source": [
    "clevels = np.linspace(-1, 1, 100)\n",
    "cbar_ticks = np.arange(-1, 1.2, 0.2)\n",
    "\n",
    "cmap = 'jet'\n",
    "\n",
    "zoom_coords = [-10, 5, 35, 45] #SPAIN\n",
    "\n",
    "#-- create figure and axes instances\n",
    "fig = plt.figure(figsize=(11, 11), dpi=100)\n",
    "ax  = fig.add_axes([0.1,0.1,0.8,0.9])\n",
    "\n",
    "projection = ccrs.PlateCarree()\n",
    "\n",
    "#-- create map\n",
    "ax = plt.axes(projection=projection) \n",
    "\n",
    "#-- add map features\n",
    "ax.coastlines(resolution='10m') #110m, 50m, 10m\n",
    "ax.add_feature(cartopy.feature.LAND, edgecolor='black')\n",
    "ax.add_feature(cartopy.feature.LAKES, edgecolor='black')\n",
    "ax.add_feature(cartopy.feature.BORDERS, edgecolor='black')\n",
    "ax.add_feature(cartopy.feature.OCEAN, zorder=100, edgecolor='black', facecolor='azure')\n",
    "\n",
    "cnplot = ax.pcolormesh(lons, lats, risk, cmap=cmap) #ax.contourf(lons, lats, risk, clevels, cmap=cmap)\n",
    "\n",
    "cbar = plt.colorbar(cnplot, ticks=cbar_ticks, shrink=0.42, pad = 0.03)\n",
    "\n",
    "gl = ax.gridlines(crs=projection, linewidth=1, color='gray', alpha=0.5, zorder=200, linestyle='--')\n",
    "\n",
    "gl.xlabel_style = {'size': 8, 'color': 'gray'}\n",
    "gl.ylabel_style = {'size': 8, 'color': 'gray'}\n",
    "\n",
    "gl.bottom_labels = True\n",
    "gl.left_labels = True\n",
    "\n",
    "ax.set_extent(zoom_coords)"
   ]
  }
 ],
 "metadata": {
  "kernelspec": {
   "display_name": "Python 3",
   "language": "python",
   "name": "python3"
  },
  "language_info": {
   "codemirror_mode": {
    "name": "ipython",
    "version": 3
   },
   "file_extension": ".py",
   "mimetype": "text/x-python",
   "name": "python",
   "nbconvert_exporter": "python",
   "pygments_lexer": "ipython3",
   "version": "3.8.5"
  }
 },
 "nbformat": 4,
 "nbformat_minor": 4
}
